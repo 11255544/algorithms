{
 "cells": [
  {
   "cell_type": "code",
   "execution_count": null,
   "metadata": {},
   "outputs": [],
   "source": [
    "class Stack:\n",
    "    def __init__(self):\n",
    "        self.items = []\n",
    "\n",
    "    def is_empty(self):\n",
    "        return len(self.items) == 0\n",
    "\n",
    "    def push(self, item):\n",
    "        self.items.append(item)\n",
    "\n",
    "    def pop(self):\n",
    "        if not self.is_empty():\n",
    "            return self.items.pop()\n",
    "        else:\n",
    "            raise IndexError(\"Pop from empty stack\")\n",
    "\n",
    "    def top(self):\n",
    "        if not self.is_empty():\n",
    "            return self.items[-1]\n",
    "        else:\n",
    "            raise IndexError(\"Top from empty stack\")\n",
    "\n",
    "class PostfixCalculator:\n",
    "    def __init__(self):\n",
    "        self.stack = Stack()\n",
    "\n",
    "    def evaluate(self, expression):\n",
    "        for token in expression.split():\n",
    "            if token.isdigit():\n",
    "                self.stack.push(int(token))\n",
    "            else:\n",
    "                operand2 = self.stack.pop()\n",
    "                operand1 = self.stack.pop()\n",
    "                result = self._apply_operator(token, operand1, operand2)\n",
    "                self.stack.push(result)\n",
    "        return self.stack.pop()\n",
    "\n",
    "    def _apply_operator(self, operator, operand1, operand2):\n",
    "        if operator == '+':\n",
    "            return operand1 + operand2\n",
    "        elif operator == '-':\n",
    "            return operand1 - operand2\n",
    "        elif operator == '*':\n",
    "            return operand1 * operand2\n",
    "        elif operator == '/':\n",
    "            return operand1 / operand2\n",
    "        else:\n",
    "            raise ValueError(f\"Unknown operator: {operator}\")\n"
   ]
  },
  {
   "cell_type": "markdown",
   "metadata": {},
   "source": [
    "### Dokumentace\n",
    "\n",
    "#### Třída `Stack`\n",
    "- **`__init__()`**: Iniciuje prázdný zásobník (`self.items`).\n",
    "- **`is_empty()`**: Vrací `True`, pokud je zásobník prázdný, jinak `False`.\n",
    "- **`push(item)`**: Přidá položku `item` na vrchol zásobníku.\n",
    "- **`pop()`**: Odebere a vrátí položku z vrcholu zásobníku. Vyvolá `IndexError`, pokud je zásobník prázdný.\n",
    "- **`top()`**: Vrací položku z vrcholu zásobníku bez jejího odebrání. Vyvolá `IndexError`, pokud je zásobník prázdný.\n",
    "\n",
    "#### Třída `PostfixCalculator`\n",
    "- **`__init__()`**: Iniciuje kalkulačku s prázdným zásobníkem.\n",
    "- **`evaluate(expression)`**: Vyhodnotí postfixový výraz `expression`:\n",
    "  - Čísla (`operand`) jsou vložena do zásobníku.\n",
    "  - Operátory aplikují operaci na dvě hodnoty vytažené ze zásobníku a výsledek je vrácen zpět do zásobníku.\n",
    "  - Na konci vrací finální výsledek.\n",
    "- **`_apply_operator(operator, operand1, operand2)`**: Aplikuje operátor (`+`, `-`, `*`, `/`) na dva operandy a vrací výsledek.\n",
    "\n",
    "### Příklad použití\n",
    "```python\n",
    "calculator = PostfixCalculator()\n",
    "result = calculator.evaluate(\"3 4 + 2 * 7 /\")\n",
    "print(result)\n",
    "```"
   ]
  },
  {
   "cell_type": "code",
   "execution_count": null,
   "metadata": {
    "vscode": {
     "languageId": "csharp"
    }
   },
   "outputs": [],
   "source": [
    "using System;\n",
    "using System.Collections.Generic;\n",
    "\n",
    "public class Stack\n",
    "{\n",
    "    private List<int> items;\n",
    "\n",
    "    public Stack()\n",
    "    {\n",
    "        items = new List<int>();\n",
    "    }\n",
    "\n",
    "    public bool IsEmpty()\n",
    "    {\n",
    "        return items.Count == 0;\n",
    "    }\n",
    "\n",
    "    public void Push(int item)\n",
    "    {\n",
    "        items.Add(item);\n",
    "    }\n",
    "\n",
    "    public int Pop()\n",
    "    {\n",
    "        if (IsEmpty())\n",
    "        {\n",
    "            throw new InvalidOperationException(\"Pop from empty stack\");\n",
    "        }\n",
    "        int item = items[items.Count - 1];\n",
    "        items.RemoveAt(items.Count - 1);\n",
    "        return item;\n",
    "    }\n",
    "\n",
    "    public int Top()\n",
    "    {\n",
    "        if (IsEmpty())\n",
    "        {\n",
    "            throw new InvalidOperationException(\"Top from empty stack\");\n",
    "        }\n",
    "        return items[items.Count - 1];\n",
    "    }\n",
    "}\n",
    "\n",
    "public class PostfixCalculator\n",
    "{\n",
    "    private Stack stack;\n",
    "\n",
    "    public PostfixCalculator()\n",
    "    {\n",
    "        stack = new Stack();\n",
    "    }\n",
    "\n",
    "    public int Evaluate(string expression)\n",
    "    {\n",
    "        string[] tokens = expression.Split(' ');\n",
    "\n",
    "        foreach (string token in tokens)\n",
    "        {\n",
    "            if (int.TryParse(token, out int number))\n",
    "            {\n",
    "                stack.Push(number);\n",
    "            }\n",
    "            else\n",
    "            {\n",
    "                int operand2 = stack.Pop();\n",
    "                int operand1 = stack.Pop();\n",
    "                int result = ApplyOperator(token, operand1, operand2);\n",
    "                stack.Push(result);\n",
    "            }\n",
    "        }\n",
    "\n",
    "        return stack.Pop();\n",
    "    }\n",
    "\n",
    "    private int ApplyOperator(string operatorToken, int operand1, int operand2)\n",
    "    {\n",
    "        return operatorToken switch\n",
    "        {\n",
    "            \"+\" => operand1 + operand2,\n",
    "            \"-\" => operand1 - operand2,\n",
    "            \"*\" => operand1 * operand2,\n",
    "            \"/\" => operand1 / operand2,\n",
    "            _ => throw new InvalidOperationException($\"Unknown operator: {operatorToken}\"),\n",
    "        };\n",
    "    }\n",
    "}"
   ]
  },
  {
   "cell_type": "markdown",
   "metadata": {},
   "source": [
    "### Dokumentace\n",
    "\n",
    "#### Třída `Stack`\n",
    "- **`Stack()`**: Iniciuje prázdný zásobník.\n",
    "- **`IsEmpty()`**: Vrací `true`, pokud je zásobník prázdný, jinak `false`.\n",
    "- **`Push(int item)`**: Přidá prvek `item` na vrchol zásobníku.\n",
    "- **`Pop()`**: Odebere a vrátí prvek z vrcholu zásobníku. Vyvolá `InvalidOperationException`, pokud je zásobník prázdný.\n",
    "- **`Top()`**: Vrací prvek z vrcholu zásobníku bez jeho odebrání. Vyvolá `InvalidOperationException`, pokud je zásobník prázdný.\n",
    "\n",
    "#### Třída `PostfixCalculator`\n",
    "- **`PostfixCalculator()`**: Iniciuje kalkulačku s prázdným zásobníkem.\n",
    "- **`Evaluate(string expression)`**: Vyhodnotí postfixový výraz `expression`.\n",
    "  - Pokud je token číslo, je vloženo do zásobníku.\n",
    "  - Pokud je token operátor, použije se na dva operandy ze zásobníku a výsledek je vrácen zpět do zásobníku.\n",
    "  - Na konci vrací finální výsledek.\n",
    "- **`ApplyOperator(string operatorToken, int operand1, int operand2)`**: Aplikuje operátor (`+`, `-`, `*`, `/`) na dva operandy a vrací výsledek.\n",
    "\n",
    "### Příklad použití\n",
    "```csharp\n",
    "PostfixCalculator calculator = new PostfixCalculator();\n",
    "int result = calculator.Evaluate(\"3 4 + 2 * 7 /\");\n",
    "Console.WriteLine(result);\n",
    "```"
   ]
  }
 ],
 "metadata": {
  "language_info": {
   "name": "python"
  }
 },
 "nbformat": 4,
 "nbformat_minor": 2
}
Here's the equivalent code in PHP that mirrors the functionality of the original C# code for a `Stack` class and a `PostfixCalculator` class.

```php
<?php

class Stack {
    private $items;

    public function __construct() {
        $this->items = [];
    }

    public function isEmpty() {
        return empty($this->items);
    }

    public function push($item) {
        $this->items[] = $item;
    }

    public function pop() {
        if ($this->isEmpty()) {
            throw new Exception("Pop from empty stack");
        }
        return array_pop($this->items);
    }

    public function top() {
        if ($this->isEmpty()) {
            throw new Exception("Top from empty stack");
        }
        return end($this->items);
    }
}

class PostfixCalculator {
    private $stack;

    public function __construct() {
        $this->stack = new Stack();
    }

    public function evaluate($expression) {
        $tokens = explode(' ', $expression);

        foreach ($tokens as $token) {
            if (is_numeric($token)) {
                $this->stack->push((int)$token);
            } else {
                $operand2 = $this->stack->pop();
                $operand1 = $this->stack->pop();
                $result = $this->applyOperator($token, $operand1, $operand2);
                $this->stack->push($result);
            }
        }

        return $this->stack->pop();
    }

    private function applyOperator($operatorToken, $operand1, $operand2) {
        switch ($operatorToken) {
            case '+':
                return $operand1 + $operand2;
            case '-':
                return $operand1 - $operand2;
            case '*':
                return $operand1 * $operand2;
            case '/':
                if ($operand2 == 0) {
                    throw new Exception("Division by zero");
                }
                return intdiv($operand1, $operand2);  // Integer division
            default:
                throw new Exception("Unknown operator: $operatorToken");
        }
    }
}

// Example usage:
$calculator = new PostfixCalculator();
$result = $calculator->evaluate("3 4 + 2 * 7 /");
echo $result;  // Output should be 2

?>
```
!
